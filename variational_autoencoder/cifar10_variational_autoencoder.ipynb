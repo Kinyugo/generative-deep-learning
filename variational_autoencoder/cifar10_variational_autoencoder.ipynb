{
 "cells": [
  {
   "cell_type": "markdown",
   "metadata": {},
   "source": [
    "# CIFAR10 Variational Auto-Encoder"
   ]
  },
  {
   "cell_type": "markdown",
   "metadata": {},
   "source": [
    "## Setup"
   ]
  },
  {
   "cell_type": "code",
   "execution_count": null,
   "metadata": {},
   "outputs": [],
   "source": [
    "import torch \n",
    "import torch.nn as nn \n",
    "import torch.nn.functional as F"
   ]
  },
  {
   "cell_type": "markdown",
   "metadata": {},
   "source": [
    "## The model"
   ]
  },
  {
   "cell_type": "code",
   "execution_count": null,
   "metadata": {},
   "outputs": [],
   "source": [
    "from operator import itemgetter\n",
    "\n",
    "import torch.optim as optim\n",
    "import pytorch_lightning as pl\n",
    "\n",
    "from variational_autoencoder import VariationalAutoEncoder, _tensor_size_3_t\n",
    "\n",
    "?VariationalAutoEncoder"
   ]
  },
  {
   "cell_type": "markdown",
   "metadata": {},
   "source": [
    "### Model Parameters"
   ]
  },
  {
   "cell_type": "code",
   "execution_count": null,
   "metadata": {},
   "outputs": [],
   "source": [
    "# reconstruction loss scaling factor\n",
    "R_SCALING_FACTOR = 1000\n",
    "LEARNING_RATE = 0.0005\n",
    "\n",
    "MODEL_PARAMS = {\n",
    "    'r_scaling_factor': R_SCALING_FACTOR,\n",
    "    'learning_rate': LEARNING_RATE,\n",
    "    'enc_in_channels': [3, 32, 64],\n",
    "    'enc_out_channels': [32, 64, 128],\n",
    "    'enc_kernel_sizes': [3, 3, 3],\n",
    "    'enc_strides': [1, 2, 1],\n",
    "    'enc_paddings': [1, 1, 1],\n",
    "    'dec_in_channels': [128, 64, 32],\n",
    "    'dec_out_channels': [64, 32, 3],\n",
    "    'dec_kernel_sizes': [3, 3, 3],\n",
    "    'dec_strides': [1, 2, 1],\n",
    "    'dec_paddings': [1, 1, 1],\n",
    "    'dec_output_paddings': [0, 1, 0],\n",
    "    'latent_dim': 4,\n",
    "    'use_batchnorm': True,\n",
    "    'use_dropout': True\n",
    "}"
   ]
  },
  {
   "cell_type": "code",
   "execution_count": null,
   "metadata": {},
   "outputs": [],
   "source": [
    "class LitVAE(pl.LightningModule):\n",
    "    def __init__(self,\n",
    "                 r_scaling_factor: float = 1000,\n",
    "                 learning_rate: float = 0.0005,\n",
    "                 **kwargs) -> None:\n",
    "        \"\"\"\n",
    "        Parameters\n",
    "        ----------\n",
    "        - `r_scaling_factor: float`:\n",
    "            scaling factor for the reconstruction loss\n",
    "        - `learning_rate: float`:\n",
    "            learning rate for the optimizer\n",
    "        - `**kwargs`:\n",
    "            arguments to pass to the variational autoencoder constructor\n",
    "        \"\"\"\n",
    "        super(LitVAE, self).__init__()\n",
    "        \n",
    "        self.r_scaling_factor = r_scaling_factor\n",
    "        self.learning_rate = learning_rate \n",
    "\n",
    "        self.vae = VariationalAutoEncoder(**kwargs)\n",
    "\n",
    "    def forward(self, x) -> _tensor_size_3_t: \n",
    "        return self.vae(x)\n",
    "\n",
    "    def training_step(self, batch, batch_idx):\n",
    "        loss = self.shared_step(batch)\n",
    "        \n",
    "        self.log(\"train_loss_step\", loss)\n",
    "\n",
    "        return {\"loss\": loss}\n",
    "\n",
    "    def training_epoch_end(self, outputs) -> None:\n",
    "        # add computation graph\n",
    "        if(self.current_epoch == 0):\n",
    "            sample_input = torch.randn((1, 3, 32, 32))\n",
    "            sample_model = LitVAE(**MODEL_PARAMS)\n",
    "            \n",
    "            self.logger.experiment.add_graph(sample_model, sample_input)\n",
    "            \n",
    "        epoch_loss = self.average_metric(outputs, \"loss\")\n",
    "        self.logger.experiment.add_scalar(\"train_loss_epoch\", epoch_loss, self.current_epoch)\n",
    "\n",
    "    def validation_step(self, batch, batch_idx):\n",
    "        loss = self.shared_step(batch)\n",
    "\n",
    "        self.log(\"valid_loss_step\", loss)\n",
    "\n",
    "        return {\"loss\": loss}\n",
    "\n",
    "    def validation_epoch_end(self, outputs) -> None:\n",
    "        epoch_loss = self.average_metric(outputs, \"loss\")\n",
    "        self.logger.experiment.add_scalar(\"valid_loss_epoch\", epoch_loss, self.current_epoch)\n",
    "\n",
    "    def test_step(self, batch, batch_idx):\n",
    "        loss = self.shared_step(batch)\n",
    "\n",
    "        self.log(\"test_loss_step\", loss)\n",
    "\n",
    "        return {\"loss\": loss}\n",
    "\n",
    "    def test_epoch_end(self, outputs) -> None:\n",
    "        epoch_loss = self.average_metric(outputs, \"loss\")\n",
    "        self.logger.experiment.add_scalar(\"test_loss_epoch\", epoch_loss, self.current_epoch)\n",
    "\n",
    "    def configure_optimizers(self):\n",
    "        return optim.Adam(self.parameters(), lr=self.learning_rate)\n",
    "        \n",
    "    def shared_step(self, batch) -> torch.TensorType: \n",
    "        # images are both samples and targets thus original \n",
    "        # labels from the dataset are not required\n",
    "        true_images, _ = batch\n",
    "\n",
    "        # perform a forward pass through the VAE \n",
    "        # mean and log_variance are used to calculate the KL Divergence loss \n",
    "        # decoder_output represents the generated images \n",
    "        mean, log_variance, generated_images = self(true_images)\n",
    "\n",
    "        loss = self.calculate_loss(mean, log_variance, generated_images, true_images)\n",
    "\n",
    "        return loss \n",
    "\n",
    "    def calculate_loss(self, mean, log_variance, predictions, targets): \n",
    "        #reconstruction loss\n",
    "        r_loss = F.mse_loss(predictions, targets)\n",
    "        # KL-Loss\n",
    "        kl_loss = self.kl_loss(mean, log_variance)\n",
    "\n",
    "        return r_loss * self.r_scaling_factor + kl_loss\n",
    "\n",
    "    def kl_loss(self, mean, log_variance): \n",
    "        loss = -0.5 * torch.sum(1 + log_variance - torch.square(mean) - torch.exp(log_variance))\n",
    "\n",
    "        return loss \n",
    "\n",
    "    def average_metric(self, metrics, metric_name):\n",
    "        avg_metric = torch.stack([x[metric_name] for x in metrics]).mean()\n",
    "        return avg_metric\n"
   ]
  },
  {
   "cell_type": "markdown",
   "metadata": {},
   "source": [
    "## The Data"
   ]
  },
  {
   "cell_type": "code",
   "execution_count": null,
   "metadata": {},
   "outputs": [],
   "source": [
    "import os \n",
    "\n",
    "from torch.utils.data import DataLoader, random_split\n",
    "from torchvision import transforms\n",
    "from torchvision.datasets import CIFAR10 "
   ]
  },
  {
   "cell_type": "code",
   "execution_count": null,
   "metadata": {},
   "outputs": [],
   "source": [
    "DATA_DIR = os.path.join(os.getcwd(), \"../.data\")"
   ]
  },
  {
   "cell_type": "code",
   "execution_count": null,
   "metadata": {},
   "outputs": [],
   "source": [
    "class CIFAR10DataModule(pl.LightningDataModule):\n",
    "    \"\"\"\n",
    "    Implements the data loading functionality.\n",
    "    \"\"\"\n",
    "    def __init__(self, root_dir: str = DATA_DIR, batch_size: int = 32, num_workers: int = 0, pin_memory: bool = False) -> None:\n",
    "        super().__init__()\n",
    "\n",
    "        self.root_dir = root_dir\n",
    "        self.batch_size = batch_size\n",
    "        self.num_workers = num_workers\n",
    "        self.pin_memory = pin_memory\n",
    "\n",
    "    def prepare_data(self):\n",
    "        # download training and test data\n",
    "        CIFAR10(root=self.root_dir, train=True, download=True)\n",
    "        # settting train to false downloads the test data>\n",
    "        CIFAR10(root=self.root_dir, train=False, download=True)\n",
    "\n",
    "    def setup(self, stage=None):\n",
    "        # normalize and transform the images into tensors\n",
    "        transform = transforms.Compose([\n",
    "            transforms.ToTensor(),\n",
    "            transforms.Normalize(mean=[0.5, 0.5, 0.5], std=[0.5, 0.5, 0.5])\n",
    "        ])\n",
    "\n",
    "        # load training and test data\n",
    "        cifar10_train = CIFAR10(self.root_dir, train=True, transform=transform)\n",
    "        self.cifar10_test = CIFAR10(self.root_dir,\n",
    "                                    train=False,\n",
    "                                    transform=transform)\n",
    "\n",
    "        # split training data into training and validation sets\n",
    "        # training set will have 45_000 images and validation set 5_000\n",
    "        self.cifar10_train, self.cifar10_val = random_split(\n",
    "            cifar10_train, [45_000, 5_000])\n",
    "\n",
    "    def train_dataloader(self):\n",
    "        return DataLoader(self.cifar10_train, batch_size=self.batch_size, num_workers=self.num_workers, pin_memory=self.pin_memory)\n",
    "\n",
    "    def val_dataloader(self):\n",
    "        return DataLoader(self.cifar10_val, batch_size=self.batch_size, num_workers=self.num_workers, pin_memory=self.pin_memory)\n",
    "\n",
    "    def test_dataloader(self):\n",
    "        return DataLoader(self.cifar10_test, batch_size=self.batch_size, num_workers=self.num_workers, pin_memory=self.pin_memory)"
   ]
  },
  {
   "cell_type": "markdown",
   "metadata": {},
   "source": [
    "## The Engineering"
   ]
  },
  {
   "cell_type": "markdown",
   "metadata": {},
   "source": [
    "### Training"
   ]
  },
  {
   "cell_type": "markdown",
   "metadata": {},
   "source": [
    "#### Setup Model-Checkpointing"
   ]
  },
  {
   "cell_type": "code",
   "execution_count": null,
   "metadata": {},
   "outputs": [],
   "source": [
    "from pytorch_lightning.callbacks import ModelCheckpoint\n",
    "\n",
    "# monitor validation loss\n",
    "checkpoint_callback = ModelCheckpoint(monitor=\"valid_loss_step\", verbose=True)"
   ]
  },
  {
   "cell_type": "code",
   "execution_count": null,
   "metadata": {},
   "outputs": [],
   "source": [
    "cifar10_dm = CIFAR10DataModule(num_workers=4)\n",
    "model = LitVAE(**MODEL_PARAMS)\n",
    "\n",
    "trainer = pl.Trainer(max_epochs=1, callbacks=[checkpoint_callback])\n"
   ]
  },
  {
   "cell_type": "code",
   "execution_count": null,
   "metadata": {},
   "outputs": [],
   "source": [
    "trainer.fit(model, cifar10_dm)"
   ]
  },
  {
   "cell_type": "markdown",
   "metadata": {},
   "source": [
    "#### Visualize Training"
   ]
  },
  {
   "cell_type": "code",
   "execution_count": null,
   "metadata": {},
   "outputs": [],
   "source": [
    "%load_ext tensorboard\n",
    "%tensorboard --logdir lightning_logs/"
   ]
  },
  {
   "cell_type": "markdown",
   "metadata": {},
   "source": [
    "### Testing"
   ]
  },
  {
   "cell_type": "markdown",
   "metadata": {},
   "source": [
    "#### Load model checkpoint"
   ]
  },
  {
   "cell_type": "code",
   "execution_count": null,
   "metadata": {},
   "outputs": [],
   "source": [
    "checkpoint_callback.best_model_score"
   ]
  },
  {
   "cell_type": "code",
   "execution_count": null,
   "metadata": {},
   "outputs": [],
   "source": [
    "trainer.test()"
   ]
  },
  {
   "cell_type": "markdown",
   "metadata": {},
   "source": [
    "## Prediction"
   ]
  },
  {
   "cell_type": "markdown",
   "metadata": {},
   "source": [
    "#### The Model"
   ]
  },
  {
   "cell_type": "code",
   "execution_count": null,
   "metadata": {},
   "outputs": [],
   "source": [
    "# load model from checkpoint\n",
    "model = LitVAE.load_from_checkpoint(checkpoint_callback.best_model_path, **MODEL_PARAMS)"
   ]
  },
  {
   "cell_type": "markdown",
   "metadata": {},
   "source": [
    "### The Data"
   ]
  },
  {
   "cell_type": "code",
   "execution_count": null,
   "metadata": {},
   "outputs": [],
   "source": [
    "# download data\n",
    "cifar10_dm.prepare_data()\n",
    "# load data \n",
    "cifar10_dm.setup()"
   ]
  },
  {
   "cell_type": "code",
   "execution_count": null,
   "metadata": {},
   "outputs": [],
   "source": [
    "NUM_IMAGES = 10\n",
    "true_images = next(iter(cifar10_dm.test_dataloader()))[0][:NUM_IMAGES]\n",
    "\n",
    "true_images.size()"
   ]
  },
  {
   "cell_type": "markdown",
   "metadata": {},
   "source": [
    "### The Prediction"
   ]
  },
  {
   "cell_type": "code",
   "execution_count": null,
   "metadata": {},
   "outputs": [],
   "source": [
    "\n",
    "mean, log_variance, reconstructed_images = model(true_images)\n",
    "\n",
    "reconstructed_images.size()"
   ]
  },
  {
   "cell_type": "markdown",
   "metadata": {},
   "source": [
    "### Visualizing the predictions"
   ]
  },
  {
   "cell_type": "code",
   "execution_count": null,
   "metadata": {},
   "outputs": [],
   "source": [
    "import matplotlib.pyplot as plt "
   ]
  },
  {
   "cell_type": "code",
   "execution_count": null,
   "metadata": {},
   "outputs": [],
   "source": [
    "fig = plt.figure(figsize=(15, 3))\n",
    "fig.subplots_adjust(hspace=0.4, wspace=0.4)\n",
    "\n",
    "for i in range(NUM_IMAGES):\n",
    "    # unnormalize the image\n",
    "    img = true_images[i].squeeze() * 0.5 + 0.5\n",
    "    img = transforms.ToPILImage()(img)\n",
    "    ax = fig.add_subplot(2, NUM_IMAGES, i+1)\n",
    "    ax.axis('off')\n",
    "    ax.imshow(img)\n",
    "    \n",
    "for i in range(NUM_IMAGES):\n",
    "    # unnormalize the image\n",
    "    img = reconstructed_images[i].squeeze() * 0.5 + 0.5\n",
    "    img = transforms.ToPILImage()(img)\n",
    "    ax = fig.add_subplot(2, NUM_IMAGES, i+NUM_IMAGES+1)\n",
    "    ax.axis('off')\n",
    "    ax.imshow(img)"
   ]
  }
 ],
 "metadata": {
  "kernelspec": {
   "display_name": "Python 3",
   "language": "python",
   "name": "python3"
  },
  "language_info": {
   "codemirror_mode": {
    "name": "ipython",
    "version": 3
   },
   "file_extension": ".py",
   "mimetype": "text/x-python",
   "name": "python",
   "nbconvert_exporter": "python",
   "pygments_lexer": "ipython3",
   "version": "3.8.3"
  },
  "toc-showtags": false
 },
 "nbformat": 4,
 "nbformat_minor": 4
}
